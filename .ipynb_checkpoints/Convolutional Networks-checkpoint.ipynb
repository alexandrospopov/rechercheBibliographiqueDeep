{
 "cells": [
  {
   "cell_type": "markdown",
   "metadata": {},
   "source": [
    "# Les réseaux de Convolution"
   ]
  },
  {
   "cell_type": "markdown",
   "metadata": {},
   "source": [
    "Les réseaux de convolution ont été introduits dès la fin des années avec les travaux de Yann LeCun. \n",
    "Ces derniers sont destinés au traitement de l'information organisé sous une forme de tableau 2D. Cette topologie regroupe aussi bien les images que les séries temporelles."
   ]
  },
  {
   "cell_type": "markdown",
   "metadata": {},
   "source": [
    "Dans cette partie, nous rappellerons tout d'abord la définition mathématique de l'opération de convolution. Nous expliciterons ensuite l'analogie entre la convolution mathématique et la convolution des réseaux neuronaux. Nous présentenrons alors les spécificités et le formalisme de cette approche."
   ]
  },
  {
   "cell_type": "markdown",
   "metadata": {},
   "source": [
    "## L'opération de convolution"
   ]
  },
  {
   "cell_type": "markdown",
   "metadata": {},
   "source": [
    "L'opération de convolution est une opération bien connue de la science du traitement du signal. Elle est notamment très utilisé dans les problèmes de détection.\n",
    "On peut en effet montrer que le meilleur moyen de détecter une onde passée à un travers un milieu et de rechercher la même onde."
   ]
  },
  {
   "cell_type": "markdown",
   "metadata": {},
   "source": [
    "Mathématiquement, l'opération s'écrit comme suit :\n",
    "$$ s(t) = \\int x(a)\\omega(t-a)da $$ \n",
    "\n",
    "Forme qu'on abrège le plus souvent par : \n",
    "$$ s(t) = (x*\\omega)(t) $$"
   ]
  },
  {
   "cell_type": "markdown",
   "metadata": {},
   "source": [
    "Dans l'ensemble de nos applications, nous travaillons dans le domaine discret, il convient donc d'adopter la notation :\n",
    "    $$ s(t) = \\sum_{a=-8}^{8}x(a)\\omega(t-a)   $$"
   ]
  },
  {
   "cell_type": "markdown",
   "metadata": {},
   "source": [
    "De plus, dans nous travaillerons sur des images, soit des données 2D. \n",
    "Il convient alors de préciser l'écriture précédente :\n",
    "\n",
    "$$ S(i,j) = (I*K)(i,j) = \\sum_{m} \\sum_{n} I(m,n)K(i-m,j-n) $$ \n",
    "\n",
    "\n",
    "avec:\n",
    "- $I$ l'entrée\n",
    "- $K$ le kernel"
   ]
  },
  {
   "cell_type": "markdown",
   "metadata": {},
   "source": [
    "Enfin, on peut remarquer que l'inversion réalisée par la convolution n'est utile que pour garantir la commutativité de l'opération. Or, en pratique, cette propriété n'est pas utile en Apprentissage Machine.\n",
    "Par conséquent, un certain nombre de librairies ont plutôt implémenté la *cross-correlation* qui n'inverse pas le kernel. "
   ]
  },
  {
   "cell_type": "markdown",
   "metadata": {},
   "source": [
    "## Quelles motivations pour les réseaux de convolution ?"
   ]
  },
  {
   "cell_type": "markdown",
   "metadata": {},
   "source": [
    "Le succès des réseaux de convolution s'explique par trois propriétés particulières."
   ]
  },
  {
   "cell_type": "markdown",
   "metadata": {},
   "source": [
    "### Sparse Interactions"
   ]
  },
  {
   "cell_type": "markdown",
   "metadata": {},
   "source": [
    "Dans une couche d'un réseau de neurones traditionnels, toutes les unités de l'*input* sont prises en compte pour calculer l'*output*. C'est pourquoi on parle de connexions denses."
   ]
  },
  {
   "cell_type": "markdown",
   "metadata": {},
   "source": [
    "Dans les réseaux de convolution, la situation est différente. L'idée est ici d'utiliser des *kernels* plus petits que l'*input*. Ces derniers seront consacrés à des tâches bien particulières; ne nécessitant qu'une information locale. Ainsi, même si l'on s'intéresse à une image composée de millons de pixels, il pourrait être pertinent d'utiliser des kernels que de quelques dizaines ou centaines de pixels de bord pour détecter les bordures."
   ]
  },
  {
   "cell_type": "markdown",
   "metadata": {},
   "source": [
    "Cette modélisation s'appuie donc sur la nature locale des informations contenues dans une image. Pour reconnaitre une roue, il n'y a toujours besoin de reconnaitre d'abord la voiture.\n",
    "Ce choix permet d'effectuer des gains significatifs sur la mémoire utilisée et sur le nombre de calcul réalisé."
   ]
  },
  {
   "cell_type": "markdown",
   "metadata": {},
   "source": []
  },
  {
   "cell_type": "markdown",
   "metadata": {},
   "source": [
    "### Parameter sharing"
   ]
  },
  {
   "cell_type": "markdown",
   "metadata": {},
   "source": [
    "La notion de partage de paramètres définit la manière dont les paramètres vont être appris. Dans un réseau classique, chaque paramètre est calculé exactement une seule fois : lorsque un neurone particulier considère une entrée particulière. \n",
    "Désormais, avec le *paramater sharing*, les paramètres sont partagés entre les différents neurones. \n",
    "\n",
    "Ainsi, dans une couche consacrée à la détection des bords, deux neurones successifs appliqueront les mêmes paramètres à leurs entrées respectives. Ils sont destinés à détecter des bords, il est donc naturel qu'ils opérent les mêmes opérations sur leurs entrées."
   ]
  },
  {
   "cell_type": "markdown",
   "metadata": {},
   "source": [
    "Ce partage permet une économie très importante des puissances de calcul."
   ]
  },
  {
   "cell_type": "markdown",
   "metadata": {},
   "source": [
    "L'un des avantages du parameter sharing est qu'il rend le réseau insensible aux translations dans l'espace."
   ]
  },
  {
   "cell_type": "markdown",
   "metadata": {},
   "source": [
    "## Pooling"
   ]
  },
  {
   "cell_type": "markdown",
   "metadata": {},
   "source": []
  },
  {
   "cell_type": "markdown",
   "metadata": {},
   "source": []
  },
  {
   "cell_type": "markdown",
   "metadata": {},
   "source": []
  },
  {
   "cell_type": "markdown",
   "metadata": {},
   "source": []
  },
  {
   "cell_type": "markdown",
   "metadata": {},
   "source": []
  }
 ],
 "metadata": {
  "kernelspec": {
   "display_name": "Python 3",
   "language": "python",
   "name": "python3"
  },
  "language_info": {
   "codemirror_mode": {
    "name": "ipython",
    "version": 3
   },
   "file_extension": ".py",
   "mimetype": "text/x-python",
   "name": "python",
   "nbconvert_exporter": "python",
   "pygments_lexer": "ipython3",
   "version": "3.5.2"
  }
 },
 "nbformat": 4,
 "nbformat_minor": 2
}
